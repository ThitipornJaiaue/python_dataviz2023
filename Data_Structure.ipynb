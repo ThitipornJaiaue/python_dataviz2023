{
  "nbformat": 4,
  "nbformat_minor": 0,
  "metadata": {
    "colab": {
      "name": "Data Structure.ipynb",
      "provenance": [],
      "include_colab_link": true
    },
    "kernelspec": {
      "name": "python3",
      "display_name": "Python 3"
    },
    "language_info": {
      "name": "python"
    }
  },
  "cells": [
    {
      "cell_type": "markdown",
      "metadata": {
        "id": "view-in-github",
        "colab_type": "text"
      },
      "source": [
        "<a href=\"https://colab.research.google.com/github/ThitipornJaiaue/python_dataviz2023/blob/main/Data_Structure.ipynb\" target=\"_parent\"><img src=\"https://colab.research.google.com/assets/colab-badge.svg\" alt=\"Open In Colab\"/></a>"
      ]
    },
    {
      "cell_type": "markdown",
      "source": [
        "# Data Structure (โครงสร้างข้อมูล)\n",
        "การเก็บข้อมูลหลาย ๆ ตัวไว้ด้วยกันอย่างเป็นระเบียบ"
      ],
      "metadata": {
        "id": "tLI4K_Rl50nQ"
      }
    },
    {
      "cell_type": "markdown",
      "source": [
        "## ```list()```\n",
        "\n",
        "- เก็บอะไรก็ได้\n",
        "- ลำดับในการเก็บ มีความสำคัญ"
      ],
      "metadata": {
        "id": "cYQ4I-wQ6VlI"
      }
    },
    {
      "cell_type": "code",
      "execution_count": null,
      "metadata": {
        "id": "lBLVhL424rtV"
      },
      "outputs": [],
      "source": [
        "list_a = [1,2,3,4,5,6] # กำหนดตัวแปร"
      ]
    },
    {
      "cell_type": "code",
      "source": [
        "list_a # [ ] square brackets เอาไว้ครอบ list"
      ],
      "metadata": {
        "colab": {
          "base_uri": "https://localhost:8080/"
        },
        "id": "VBCxSIQC6iAQ",
        "outputId": "4ef335f1-aaeb-45a3-b054-217bf1f88b38"
      },
      "execution_count": null,
      "outputs": [
        {
          "output_type": "execute_result",
          "data": {
            "text/plain": [
              "[1, 2, 3, 4, 5, 6]"
            ]
          },
          "metadata": {},
          "execution_count": 2
        }
      ]
    },
    {
      "cell_type": "code",
      "source": [
        "list_b = ['ab',2,3.14 , list_a] # จะเก็บอะไรก็ได้"
      ],
      "metadata": {
        "id": "0-6XIDg56m19"
      },
      "execution_count": null,
      "outputs": []
    },
    {
      "cell_type": "code",
      "source": [
        "list_b # สามารถเก็บได้ตัวแปรได้ทุกประเภทใน list"
      ],
      "metadata": {
        "colab": {
          "base_uri": "https://localhost:8080/"
        },
        "id": "jB4-bDxy7BWW",
        "outputId": "03f5c60c-80bc-4aa2-aa15-2cb5f68680d4"
      },
      "execution_count": null,
      "outputs": [
        {
          "output_type": "execute_result",
          "data": {
            "text/plain": [
              "['ab', 2, 3.14, [1, 2, 3, 4, 5, 6]]"
            ]
          },
          "metadata": {},
          "execution_count": 7
        }
      ]
    },
    {
      "cell_type": "markdown",
      "source": [
        "### indexing การชี้สมาชิกใน list ด้วย เลขลำดับของ list"
      ],
      "metadata": {
        "id": "4-z1r8w08Lvg"
      }
    },
    {
      "cell_type": "code",
      "source": [
        "list_a[3] # เอาสมาชิกตัวที่ 3"
      ],
      "metadata": {
        "colab": {
          "base_uri": "https://localhost:8080/"
        },
        "id": "wmoH2mdO7CE6",
        "outputId": "744a0b0e-a214-4441-e8fa-2fe5301d7ec2"
      },
      "execution_count": null,
      "outputs": [
        {
          "output_type": "execute_result",
          "data": {
            "text/plain": [
              "4"
            ]
          },
          "metadata": {},
          "execution_count": 4
        }
      ]
    },
    {
      "cell_type": "code",
      "source": [
        "list_b[3] # เอาสมาชิกตัวที่ 3"
      ],
      "metadata": {
        "colab": {
          "base_uri": "https://localhost:8080/"
        },
        "id": "rzX2-3H97jps",
        "outputId": "04e03097-e302-4ba5-e79f-f082220b4195"
      },
      "execution_count": null,
      "outputs": [
        {
          "output_type": "execute_result",
          "data": {
            "text/plain": [
              "[1, 2, 3, 4, 5, 6]"
            ]
          },
          "metadata": {},
          "execution_count": 8
        }
      ]
    },
    {
      "cell_type": "code",
      "source": [
        "list_b[3][3] # double indexing"
      ],
      "metadata": {
        "colab": {
          "base_uri": "https://localhost:8080/"
        },
        "id": "Zh4n8eRa7oxX",
        "outputId": "8e6c35b1-e39c-4282-a650-9076ccac1f12"
      },
      "execution_count": null,
      "outputs": [
        {
          "output_type": "execute_result",
          "data": {
            "text/plain": [
              "4"
            ]
          },
          "metadata": {},
          "execution_count": 9
        }
      ]
    },
    {
      "cell_type": "code",
      "source": [
        "list_b[3][4] # เอาสมาชิกตัวที่ 3 เเละเอาสมาชิกตัวที่ 4 ใน list นั้น"
      ],
      "metadata": {
        "colab": {
          "base_uri": "https://localhost:8080/"
        },
        "id": "nUM_19Zh796m",
        "outputId": "c49077a0-5ca8-49f7-d210-c90ce8710efe"
      },
      "execution_count": null,
      "outputs": [
        {
          "output_type": "execute_result",
          "data": {
            "text/plain": [
              "5"
            ]
          },
          "metadata": {},
          "execution_count": 10
        }
      ]
    },
    {
      "cell_type": "code",
      "source": [
        "list_a[6] # ถ้าเรียกลำดับที่ไม่ได้มี ก็จะ error มีแค่ index 0,1,2,3,4,5 ไม่มี 6"
      ],
      "metadata": {
        "colab": {
          "base_uri": "https://localhost:8080/",
          "height": 165
        },
        "id": "rJO8vmIM8I0R",
        "outputId": "2628b393-f0be-4610-8451-30c9177b2552"
      },
      "execution_count": null,
      "outputs": [
        {
          "output_type": "error",
          "ename": "IndexError",
          "evalue": "ignored",
          "traceback": [
            "\u001b[0;31m---------------------------------------------------------------------------\u001b[0m",
            "\u001b[0;31mIndexError\u001b[0m                                Traceback (most recent call last)",
            "\u001b[0;32m<ipython-input-11-a63bbd95e3e0>\u001b[0m in \u001b[0;36m<cell line: 1>\u001b[0;34m()\u001b[0m\n\u001b[0;32m----> 1\u001b[0;31m \u001b[0mlist_a\u001b[0m\u001b[0;34m[\u001b[0m\u001b[0;36m6\u001b[0m\u001b[0;34m]\u001b[0m \u001b[0;31m# ถ้าเรียกลำดับที่ไม่ได้มี ก็จะ error\u001b[0m\u001b[0;34m\u001b[0m\u001b[0;34m\u001b[0m\u001b[0m\n\u001b[0m",
            "\u001b[0;31mIndexError\u001b[0m: list index out of range"
          ]
        }
      ]
    },
    {
      "cell_type": "code",
      "source": [
        "list_a"
      ],
      "metadata": {
        "id": "AhupXE9v-qcl",
        "outputId": "1ddebbca-6a7a-40bc-9898-2a1cd31fd012",
        "colab": {
          "base_uri": "https://localhost:8080/"
        }
      },
      "execution_count": null,
      "outputs": [
        {
          "output_type": "execute_result",
          "data": {
            "text/plain": [
              "[1, 2, 3, 4, 5, 6]"
            ]
          },
          "metadata": {},
          "execution_count": 14
        }
      ]
    },
    {
      "cell_type": "code",
      "source": [
        "list_a[-1] # index -1 คือตัวสุดท้ายของ list //ไล่จากข้างหลัง"
      ],
      "metadata": {
        "colab": {
          "base_uri": "https://localhost:8080/"
        },
        "id": "cheaKJLy8il0",
        "outputId": "510db9ee-b8ea-4d41-fa61-2314477becd8"
      },
      "execution_count": null,
      "outputs": [
        {
          "output_type": "execute_result",
          "data": {
            "text/plain": [
              "6"
            ]
          },
          "metadata": {},
          "execution_count": 12
        }
      ]
    },
    {
      "cell_type": "code",
      "source": [
        "list_a[-4] # index ติดลบ นับจากท้าย"
      ],
      "metadata": {
        "colab": {
          "base_uri": "https://localhost:8080/"
        },
        "id": "DJveF2EF8o3C",
        "outputId": "cce11d85-5177-45de-dc8e-7144127241ed"
      },
      "execution_count": null,
      "outputs": [
        {
          "output_type": "execute_result",
          "data": {
            "text/plain": [
              "3"
            ]
          },
          "metadata": {},
          "execution_count": 13
        }
      ]
    },
    {
      "cell_type": "markdown",
      "source": [
        "### การสร้าง ```list()```\n",
        "\n",
        "\n",
        "\n"
      ],
      "metadata": {
        "id": "d1VYlPcg9dC5"
      }
    },
    {
      "cell_type": "code",
      "source": [
        "list_x1 = [] # เเบบที่ 1\n",
        "list_x2 = list() # แบบที่ 2"
      ],
      "metadata": {
        "id": "w8j852-N9D0C"
      },
      "execution_count": null,
      "outputs": []
    },
    {
      "cell_type": "code",
      "source": [
        "list_x1\n",
        "list_x2 # พิมพ์ สองครั้ง ก็ จะ show output ของตัวล่าสุด"
      ],
      "metadata": {
        "colab": {
          "base_uri": "https://localhost:8080/"
        },
        "id": "1A40gYHq9sFO",
        "outputId": "189c767b-f79d-4fa5-f795-f2d3191403e1"
      },
      "execution_count": null,
      "outputs": [
        {
          "output_type": "execute_result",
          "data": {
            "text/plain": [
              "[]"
            ]
          },
          "metadata": {},
          "execution_count": 16
        }
      ]
    },
    {
      "cell_type": "code",
      "source": [
        "list_x1\n",
        "list_x2\n",
        "print('3')"
      ],
      "metadata": {
        "id": "30SOEc10_dG5",
        "outputId": "99f167aa-c6da-46ec-a050-6f9de1da998c",
        "colab": {
          "base_uri": "https://localhost:8080/"
        }
      },
      "execution_count": null,
      "outputs": [
        {
          "output_type": "stream",
          "name": "stdout",
          "text": [
            "3\n"
          ]
        }
      ]
    },
    {
      "cell_type": "code",
      "source": [
        "print(list_x1)\n",
        "print(list_x2) # show output ทั้งสองอัน"
      ],
      "metadata": {
        "colab": {
          "base_uri": "https://localhost:8080/"
        },
        "id": "xNF6VMfc99Dd",
        "outputId": "4cd43c3b-e603-4254-9965-f0b31b0781d2"
      },
      "execution_count": null,
      "outputs": [
        {
          "output_type": "stream",
          "name": "stdout",
          "text": [
            "[]\n",
            "[]\n"
          ]
        }
      ]
    },
    {
      "cell_type": "markdown",
      "source": [
        "### เพิ่มสมาชิกเข้าไปใน list ด้วย ```append()```"
      ],
      "metadata": {
        "id": "nsEtoFdK-OAJ"
      }
    },
    {
      "cell_type": "code",
      "source": [
        "list_x1.append(2)  # เก็บ 2 ไว้ใน list_x1"
      ],
      "metadata": {
        "id": "CUIwBVuV-FAh"
      },
      "execution_count": null,
      "outputs": []
    },
    {
      "cell_type": "code",
      "source": [
        "list_x1"
      ],
      "metadata": {
        "colab": {
          "base_uri": "https://localhost:8080/"
        },
        "id": "Orrj4t3l-imZ",
        "outputId": "88fa50e3-391b-4786-9453-7b3af496ef27"
      },
      "execution_count": null,
      "outputs": [
        {
          "output_type": "execute_result",
          "data": {
            "text/plain": [
              "[2, 2]"
            ]
          },
          "metadata": {},
          "execution_count": 38
        }
      ]
    },
    {
      "cell_type": "code",
      "source": [
        "list_x1.append(4) # นำ 4 เข้าไปเก็บไว้ใน list_x1\n",
        "print(list_x1)"
      ],
      "metadata": {
        "colab": {
          "base_uri": "https://localhost:8080/"
        },
        "id": "UVUUwRgp-wMm",
        "outputId": "1d7c415f-6985-405d-8064-e8bf31e9d532"
      },
      "execution_count": null,
      "outputs": [
        {
          "output_type": "stream",
          "name": "stdout",
          "text": [
            "[2, 2, 4]\n"
          ]
        }
      ]
    },
    {
      "cell_type": "code",
      "source": [
        "list_x1[0] # ชี้สมาชิกตัวเเรก ใน list_x1"
      ],
      "metadata": {
        "colab": {
          "base_uri": "https://localhost:8080/"
        },
        "id": "zbIiLEnw-82e",
        "outputId": "aed7122d-8684-41f4-d35a-a6f89c2ee99b"
      },
      "execution_count": null,
      "outputs": [
        {
          "output_type": "execute_result",
          "data": {
            "text/plain": [
              "2"
            ]
          },
          "metadata": {},
          "execution_count": 40
        }
      ]
    },
    {
      "cell_type": "code",
      "source": [
        "list_x1[-1] # ชี้สมาชิกตัวสุดท้าย ใน list_x1"
      ],
      "metadata": {
        "id": "V84_LhaS_GN1",
        "outputId": "41336040-ad84-4621-b14d-ca1f87fa6597",
        "colab": {
          "base_uri": "https://localhost:8080/"
        }
      },
      "execution_count": null,
      "outputs": [
        {
          "output_type": "execute_result",
          "data": {
            "text/plain": [
              "4"
            ]
          },
          "metadata": {},
          "execution_count": 41
        }
      ]
    },
    {
      "cell_type": "code",
      "source": [
        "list_x2"
      ],
      "metadata": {
        "colab": {
          "base_uri": "https://localhost:8080/"
        },
        "id": "5QR-pmG7_PXg",
        "outputId": "492e7c46-6e1e-4b89-8f2c-1d1ecc9fb6c8"
      },
      "execution_count": null,
      "outputs": [
        {
          "output_type": "execute_result",
          "data": {
            "text/plain": [
              "['ha', 'ha']"
            ]
          },
          "metadata": {},
          "execution_count": 42
        }
      ]
    },
    {
      "cell_type": "markdown",
      "source": [
        "### ลบสมาชิกจาก list"
      ],
      "metadata": {
        "id": "sF2armk9ANli"
      }
    },
    {
      "cell_type": "code",
      "source": [
        "list_x1.append('ha') # เติม ha ใน list_x1"
      ],
      "metadata": {
        "id": "srdLQdTO_ySd"
      },
      "execution_count": null,
      "outputs": []
    },
    {
      "cell_type": "code",
      "source": [
        "list_x1 # ผลลัพธ์หลังใช้ append เติม"
      ],
      "metadata": {
        "colab": {
          "base_uri": "https://localhost:8080/"
        },
        "id": "xxK-PnT4AFby",
        "outputId": "cde094b6-3ae6-4a1e-aa27-fb38047d8808"
      },
      "execution_count": null,
      "outputs": [
        {
          "output_type": "execute_result",
          "data": {
            "text/plain": [
              "[2, 2, 4, 'ha']"
            ]
          },
          "metadata": {},
          "execution_count": 48
        }
      ]
    },
    {
      "cell_type": "code",
      "source": [
        "list_x1.pop() # จะลบจากตัวท้ายสุดก่อน //pop ดึงตัวสุดท้ายออกจาก list"
      ],
      "metadata": {
        "colab": {
          "base_uri": "https://localhost:8080/",
          "height": 36
        },
        "id": "mpE1ncDWAGrf",
        "outputId": "35018218-90bf-4df1-e146-dffb60659a03"
      },
      "execution_count": null,
      "outputs": [
        {
          "output_type": "execute_result",
          "data": {
            "text/plain": [
              "'ha'"
            ],
            "application/vnd.google.colaboratory.intrinsic+json": {
              "type": "string"
            }
          },
          "metadata": {},
          "execution_count": 49
        }
      ]
    },
    {
      "cell_type": "code",
      "source": [
        "print(list_x1) # เเสดง output ของ list_x1"
      ],
      "metadata": {
        "colab": {
          "base_uri": "https://localhost:8080/"
        },
        "id": "OK9PKivxALUU",
        "outputId": "80c55b14-b32d-4eb4-94d6-a5152b516b50"
      },
      "execution_count": null,
      "outputs": [
        {
          "output_type": "stream",
          "name": "stdout",
          "text": [
            "[2, 2, 4]\n"
          ]
        }
      ]
    },
    {
      "cell_type": "markdown",
      "source": [
        "### ```len()``` ตรวจสอบจำนวนสมาชิกของ list"
      ],
      "metadata": {
        "id": "QzA1kAFCB9BS"
      }
    },
    {
      "cell_type": "code",
      "source": [
        "print(list_b) # เเสดง list_b\n",
        "print(len(list_b)) # เเสดงจำนวนสมาชิกของ list_b"
      ],
      "metadata": {
        "colab": {
          "base_uri": "https://localhost:8080/"
        },
        "id": "gbb9xpgyAS6u",
        "outputId": "76a76cfb-242d-4369-a81b-52432dfb9730"
      },
      "execution_count": null,
      "outputs": [
        {
          "output_type": "stream",
          "name": "stdout",
          "text": [
            "['ab', 2, 3.14, [1, 2, 3, 4, 5, 6]]\n",
            "4\n"
          ]
        }
      ]
    },
    {
      "cell_type": "code",
      "source": [
        "len(list_a) # เเสดงจำนวนสมาชิกของ list_a"
      ],
      "metadata": {
        "colab": {
          "base_uri": "https://localhost:8080/"
        },
        "id": "nDEGsAJKCJFk",
        "outputId": "9795d80d-c9a5-42ab-9c15-9797ab2bdcc0"
      },
      "execution_count": null,
      "outputs": [
        {
          "output_type": "execute_result",
          "data": {
            "text/plain": [
              "6"
            ]
          },
          "metadata": {},
          "execution_count": 53
        }
      ]
    },
    {
      "cell_type": "markdown",
      "source": [
        "### String is a list of characters"
      ],
      "metadata": {
        "id": "d0c325EHCgAB"
      }
    },
    {
      "cell_type": "code",
      "source": [
        "st_stat = 'Department od Statistics, Faculty of Science' # กำหนด string"
      ],
      "metadata": {
        "id": "4F9BnrfFCRLh"
      },
      "execution_count": null,
      "outputs": []
    },
    {
      "cell_type": "code",
      "source": [
        "st_stat[10] # เอาสมาชิกตัวที่ 10"
      ],
      "metadata": {
        "colab": {
          "base_uri": "https://localhost:8080/",
          "height": 35
        },
        "id": "luQgyqalC9HO",
        "outputId": "167653a4-bb05-49ac-dd48-2a769e78ac85"
      },
      "execution_count": null,
      "outputs": [
        {
          "output_type": "execute_result",
          "data": {
            "text/plain": [
              "' '"
            ],
            "application/vnd.google.colaboratory.intrinsic+json": {
              "type": "string"
            }
          },
          "metadata": {},
          "execution_count": 22
        }
      ]
    },
    {
      "cell_type": "code",
      "source": [
        "len(st_stat) # มีความยาวเท่าไหร่"
      ],
      "metadata": {
        "colab": {
          "base_uri": "https://localhost:8080/"
        },
        "id": "zS5KRyszDGnf",
        "outputId": "d248d31b-f14e-4be1-da66-f919dc81ae95"
      },
      "execution_count": null,
      "outputs": [
        {
          "output_type": "execute_result",
          "data": {
            "text/plain": [
              "44"
            ]
          },
          "metadata": {},
          "execution_count": 32
        }
      ]
    },
    {
      "cell_type": "markdown",
      "source": [
        "### List Slicing ```:```\n"
      ],
      "metadata": {
        "id": "HWkMy3QgDYii"
      }
    },
    {
      "cell_type": "markdown",
      "source": [
        "`list[จุดเเริ่มต้น  (ทึบ):จุดสุดท้าย  (โปร่ง)]`\n",
        "\n",
        "`list[จุดเเริ่มต้น  (ทึบ):จุดสุดท้าย  (โปร่ง):step]`"
      ],
      "metadata": {
        "id": "hZreMv-2ETDx"
      }
    },
    {
      "cell_type": "markdown",
      "source": [
        "![image.png](data:image/png;base64,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)"
      ],
      "metadata": {
        "id": "pwHwZiTVLFZb"
      }
    },
    {
      "cell_type": "code",
      "source": [
        "list_a = [0,1,2,3,4,5,6]"
      ],
      "metadata": {
        "id": "7GJMFA9XzLxK"
      },
      "execution_count": null,
      "outputs": []
    },
    {
      "cell_type": "code",
      "source": [
        "list_a # เเสดง list_a"
      ],
      "metadata": {
        "colab": {
          "base_uri": "https://localhost:8080/"
        },
        "id": "2_JrbypKDNaE",
        "outputId": "9198623f-2fc1-4e1e-8464-99bf98e1025d"
      },
      "execution_count": null,
      "outputs": [
        {
          "output_type": "execute_result",
          "data": {
            "text/plain": [
              "[0, 1, 2, 3, 4, 5, 6]"
            ]
          },
          "metadata": {},
          "execution_count": 2
        }
      ]
    },
    {
      "cell_type": "code",
      "source": [
        "list_a[3] # จะเเสดงเลข 3 ออกมา"
      ],
      "metadata": {
        "colab": {
          "base_uri": "https://localhost:8080/"
        },
        "id": "SC-N7iabDvI_",
        "outputId": "c407697b-2184-4a73-cb4e-7951ee418e42"
      },
      "execution_count": null,
      "outputs": [
        {
          "output_type": "execute_result",
          "data": {
            "text/plain": [
              "3"
            ]
          },
          "metadata": {},
          "execution_count": 4
        }
      ]
    },
    {
      "cell_type": "markdown",
      "source": [
        "#### `:` colon\n",
        "\n"
      ],
      "metadata": {
        "id": "QZqzGxKvGzIq"
      }
    },
    {
      "cell_type": "code",
      "source": [
        "list_a[1:4] #ตัดเฉพาะตัวที่ 1,2,3 ออกมา"
      ],
      "metadata": {
        "colab": {
          "base_uri": "https://localhost:8080/"
        },
        "id": "bnQdc0AhznES",
        "outputId": "e54ac44c-2ee3-4e09-a92c-0e27ce6c3a99"
      },
      "execution_count": null,
      "outputs": [
        {
          "output_type": "execute_result",
          "data": {
            "text/plain": [
              "[1, 2, 3]"
            ]
          },
          "metadata": {},
          "execution_count": 5
        }
      ]
    },
    {
      "cell_type": "code",
      "source": [
        "list_a[-3:] # : colon  # ดึงสมาชิกสามตัวสุดท้ายออกมาได้"
      ],
      "metadata": {
        "colab": {
          "base_uri": "https://localhost:8080/"
        },
        "id": "lNle8MdVD4iF",
        "outputId": "d883c29e-6f48-42bf-ee7c-c05194063929"
      },
      "execution_count": null,
      "outputs": [
        {
          "output_type": "execute_result",
          "data": {
            "text/plain": [
              "[4, 5, 6]"
            ]
          },
          "metadata": {},
          "execution_count": 6
        }
      ]
    },
    {
      "cell_type": "code",
      "source": [
        "list_a[:4] # ก็จะเอาตั้งเเต่ ตัวที่ 0 1 2 3 ออกมา"
      ],
      "metadata": {
        "colab": {
          "base_uri": "https://localhost:8080/"
        },
        "id": "KIryJE5oGV0K",
        "outputId": "832a4eb0-b4a1-40e1-dd50-9bc310c25784"
      },
      "execution_count": null,
      "outputs": [
        {
          "output_type": "execute_result",
          "data": {
            "text/plain": [
              "[0, 1, 2, 3]"
            ]
          },
          "metadata": {},
          "execution_count": 8
        }
      ]
    },
    {
      "cell_type": "code",
      "source": [
        "list_a[1:4] # จะเอาเลข 2 , 3 , 4"
      ],
      "metadata": {
        "colab": {
          "base_uri": "https://localhost:8080/"
        },
        "id": "Hh9fMH7ED8Qh",
        "outputId": "d5911b83-cfc0-4572-e29a-d3a820650aa3"
      },
      "execution_count": null,
      "outputs": [
        {
          "output_type": "execute_result",
          "data": {
            "text/plain": [
              "[1, 2, 3]"
            ]
          },
          "metadata": {},
          "execution_count": 9
        }
      ]
    },
    {
      "cell_type": "code",
      "source": [
        "list_a[:] # คือเอาทุกตัว"
      ],
      "metadata": {
        "colab": {
          "base_uri": "https://localhost:8080/"
        },
        "id": "cdPQJNblFswJ",
        "outputId": "4137abd1-856a-4763-fccd-35d7e3cb643f"
      },
      "execution_count": null,
      "outputs": [
        {
          "output_type": "execute_result",
          "data": {
            "text/plain": [
              "[0, 1, 2, 3, 4, 5, 6]"
            ]
          },
          "metadata": {},
          "execution_count": 10
        }
      ]
    },
    {
      "cell_type": "code",
      "source": [
        "list_a[:-1] # คือ"
      ],
      "metadata": {
        "colab": {
          "base_uri": "https://localhost:8080/"
        },
        "id": "NOtchCMk03q6",
        "outputId": "dd342455-99fb-480a-b38e-7a43d8485b71"
      },
      "execution_count": null,
      "outputs": [
        {
          "output_type": "execute_result",
          "data": {
            "text/plain": [
              "[0, 1, 2, 3, 4, 5]"
            ]
          },
          "metadata": {},
          "execution_count": 14
        }
      ]
    },
    {
      "cell_type": "markdown",
      "source": [
        "#### step"
      ],
      "metadata": {
        "id": "5medkheIGukU"
      }
    },
    {
      "cell_type": "code",
      "source": [
        "list_a[1:-1:2] # เอาเลข 1,3,5"
      ],
      "metadata": {
        "colab": {
          "base_uri": "https://localhost:8080/"
        },
        "id": "Tmma44T30pAC",
        "outputId": "e91088dc-e055-4ab2-9520-93b656aa2c43"
      },
      "execution_count": null,
      "outputs": [
        {
          "output_type": "execute_result",
          "data": {
            "text/plain": [
              "[1, 3, 5]"
            ]
          },
          "metadata": {},
          "execution_count": 15
        }
      ]
    },
    {
      "cell_type": "code",
      "source": [
        "list_c = [1,2,3,4,5,6,7,8,9,10,11,12,13] # กำหนด list_c"
      ],
      "metadata": {
        "id": "F8XgeKgAGlje"
      },
      "execution_count": null,
      "outputs": []
    },
    {
      "cell_type": "code",
      "source": [
        "list_c[:10:] # เอา 10 ตัวเเรก"
      ],
      "metadata": {
        "colab": {
          "base_uri": "https://localhost:8080/"
        },
        "id": "M4XY3ySkHBMs",
        "outputId": "a81a8301-3525-4111-c4fa-9c4d84536855"
      },
      "execution_count": null,
      "outputs": [
        {
          "output_type": "execute_result",
          "data": {
            "text/plain": [
              "[1, 2, 3, 4, 5, 6, 7, 8, 9, 10]"
            ]
          },
          "metadata": {},
          "execution_count": 17
        }
      ]
    },
    {
      "cell_type": "code",
      "source": [
        "list_c[:10:2] # กระโดดทีละ 2 ขั้น"
      ],
      "metadata": {
        "colab": {
          "base_uri": "https://localhost:8080/"
        },
        "id": "FKLphSs4HIvs",
        "outputId": "f7b4947d-1d49-4bb9-ab67-74fef063b359"
      },
      "execution_count": null,
      "outputs": [
        {
          "output_type": "execute_result",
          "data": {
            "text/plain": [
              "[1, 3, 5, 7, 9]"
            ]
          },
          "metadata": {},
          "execution_count": 18
        }
      ]
    },
    {
      "cell_type": "code",
      "source": [
        "list_c[::-1]  # แบบกลับหลัง"
      ],
      "metadata": {
        "colab": {
          "base_uri": "https://localhost:8080/"
        },
        "id": "c9Mp6i37HTWL",
        "outputId": "34383824-8bf6-4908-b502-8f91dda52ee2"
      },
      "execution_count": null,
      "outputs": [
        {
          "output_type": "execute_result",
          "data": {
            "text/plain": [
              "[13, 12, 11, 10, 9, 8, 7, 6, 5, 4, 3, 2, 1]"
            ]
          },
          "metadata": {},
          "execution_count": 19
        }
      ]
    },
    {
      "cell_type": "markdown",
      "source": [
        "Quiz2\n",
        "\n",
        "กำหนด list เป็นประโยคคำว่า\n",
        "\"Department of Statistics, Faculty of Science, Khon Kaen University, Thailand\" 10july2023[15:25]\n",
        "\n",
        "\n",
        "1. ตัดมาเฉพาะคำว่า Faculty of Science\n",
        "2. ตัดแบบเว้นทีละ 3 ตัวอักษร\n",
        "3. ตัดคำว่า Khon Kaen Univercity ออกมาแล้วเขียนกลับหลัง\n",
        "\n"
      ],
      "metadata": {
        "id": "gG7Fc7nh2GoR"
      }
    },
    {
      "cell_type": "code",
      "source": [
        "list_stat = 'Department of Statistics, Faculty of Science, Khon Kaen University, Thailand'"
      ],
      "metadata": {
        "id": "iPUcuCGh3vjR"
      },
      "execution_count": null,
      "outputs": []
    },
    {
      "cell_type": "code",
      "source": [
        "list_stat[26:44]"
      ],
      "metadata": {
        "colab": {
          "base_uri": "https://localhost:8080/",
          "height": 35
        },
        "id": "cmdWTM-P4QGw",
        "outputId": "b128f505-bc10-4ff3-ee18-1d93b67d7b97"
      },
      "execution_count": null,
      "outputs": [
        {
          "output_type": "execute_result",
          "data": {
            "text/plain": [
              "'Faculty of Science'"
            ],
            "application/vnd.google.colaboratory.intrinsic+json": {
              "type": "string"
            }
          },
          "metadata": {},
          "execution_count": 24
        }
      ]
    },
    {
      "cell_type": "code",
      "source": [
        "list_stat[:75:3]"
      ],
      "metadata": {
        "colab": {
          "base_uri": "https://localhost:8080/",
          "height": 35
        },
        "id": "RbRT2X2d4zap",
        "outputId": "f4f656c6-f93e-49d8-d20e-23f06819288a"
      },
      "execution_count": null,
      "outputs": [
        {
          "output_type": "execute_result",
          "data": {
            "text/plain": [
              "'Damtftii,al  ic oKnnei,hl'"
            ],
            "application/vnd.google.colaboratory.intrinsic+json": {
              "type": "string"
            }
          },
          "metadata": {},
          "execution_count": 59
        }
      ]
    },
    {
      "cell_type": "code",
      "source": [
        "list_stat[46:66][::-1]\n"
      ],
      "metadata": {
        "colab": {
          "base_uri": "https://localhost:8080/",
          "height": 35
        },
        "id": "zfGGD7kg6PrZ",
        "outputId": "91c63fe7-34b7-4dde-b482-c1d9c05a1a1d"
      },
      "execution_count": null,
      "outputs": [
        {
          "output_type": "execute_result",
          "data": {
            "text/plain": [
              "'ytisrevinU neaK nohK'"
            ],
            "application/vnd.google.colaboratory.intrinsic+json": {
              "type": "string"
            }
          },
          "metadata": {},
          "execution_count": 60
        }
      ]
    },
    {
      "cell_type": "code",
      "source": [],
      "metadata": {
        "id": "_Q8ZHs_b5K56"
      },
      "execution_count": null,
      "outputs": []
    },
    {
      "cell_type": "markdown",
      "source": [
        "### ```range()```"
      ],
      "metadata": {
        "id": "4W7R9ZV1H3aa"
      }
    },
    {
      "cell_type": "code",
      "source": [
        "range(21) # list ของเลข 0 จนถึง 20(จุดสุดท้าย)"
      ],
      "metadata": {
        "colab": {
          "base_uri": "https://localhost:8080/"
        },
        "id": "F8ow5gHvIMnL",
        "outputId": "c49911d6-f4e5-4976-b35d-4795ed1cf767"
      },
      "execution_count": null,
      "outputs": [
        {
          "output_type": "execute_result",
          "data": {
            "text/plain": [
              "range(0, 21)"
            ]
          },
          "metadata": {},
          "execution_count": 43
        }
      ]
    },
    {
      "cell_type": "code",
      "source": [
        "a = list(range(21)) # เรียก ตัวเลข 0-20"
      ],
      "metadata": {
        "id": "Ttel8i5wHiOz"
      },
      "execution_count": null,
      "outputs": []
    },
    {
      "cell_type": "code",
      "source": [
        "a # เเสดงผลลัพธ์ของ a"
      ],
      "metadata": {
        "colab": {
          "base_uri": "https://localhost:8080/"
        },
        "id": "96EYWQyxIGLQ",
        "outputId": "4bac9195-260f-4424-a53c-7fc7584ed727"
      },
      "execution_count": null,
      "outputs": [
        {
          "output_type": "execute_result",
          "data": {
            "text/plain": [
              "[0, 1, 2, 3, 4, 5, 6, 7, 8, 9, 10, 11, 12, 13, 14, 15, 16, 17, 18, 19, 20]"
            ]
          },
          "metadata": {},
          "execution_count": 45
        }
      ]
    },
    {
      "cell_type": "code",
      "source": [
        "list(range(1,21)) # เริ่มที่ 1-20 ใน list range(จุดเริ่มต้น,จุดสุดท้าย)"
      ],
      "metadata": {
        "colab": {
          "base_uri": "https://localhost:8080/"
        },
        "id": "j9qIB5ZpIHAa",
        "outputId": "fb835943-6fdd-46dc-ada8-f7360d3bcfc7"
      },
      "execution_count": null,
      "outputs": [
        {
          "output_type": "execute_result",
          "data": {
            "text/plain": [
              "[1, 2, 3, 4, 5, 6, 7, 8, 9, 10, 11, 12, 13, 14, 15, 16, 17, 18, 19, 20]"
            ]
          },
          "metadata": {},
          "execution_count": 46
        }
      ]
    },
    {
      "cell_type": "markdown",
      "source": [
        "## ~~~HW 2~~~ Examples"
      ],
      "metadata": {
        "id": "uBTAm2P0JHlD"
      }
    },
    {
      "cell_type": "markdown",
      "source": [
        "คำนวณเวลาเป็นวินาทีของเวลาต่อไปนี้โดยใช้คำสั่ง split() ช่วย (print ออกมาให้สวยงาม)\n",
        "\n",
        "- 12:30:15\n",
        "- 13:41:07\n",
        "- 09:11:50\n",
        "- 21:30:15\n",
        "- 03:10:15\n"
      ],
      "metadata": {
        "id": "OZlParATO7fx"
      }
    },
    {
      "cell_type": "markdown",
      "source": [
        "ตัวอย่าง"
      ],
      "metadata": {
        "id": "yXny8Nj-JwZj"
      }
    },
    {
      "cell_type": "code",
      "source": [
        "# 01:02:03\n",
        "\n",
        "a = (1*60*60) + (2*60) + 3\n",
        "print(f'01:02:03 เเปลงเป็นวินาที ได้ {a:,} วินาที')"
      ],
      "metadata": {
        "colab": {
          "base_uri": "https://localhost:8080/"
        },
        "id": "yMsFteIzJdjm",
        "outputId": "316d5341-4a95-4aff-d080-c86ebc003ee9"
      },
      "execution_count": null,
      "outputs": [
        {
          "output_type": "stream",
          "name": "stdout",
          "text": [
            "01:02:03 เเปลงเป็นวินาที ได้ 3,723 วินาที\n"
          ]
        }
      ]
    },
    {
      "cell_type": "markdown",
      "source": [
        "ข้อที่ 1"
      ],
      "metadata": {
        "id": "HAVmzA3KBhft"
      }
    },
    {
      "cell_type": "code",
      "source": [
        "q1 = '12:30:15'\n",
        "Q1 = q1.split(\":\")\n",
        "hours1 = int(Q1[0])*3600\n",
        "minutes1 = int(Q1[1])*60\n",
        "seconds1 = int(Q1[2])\n",
        "f1 =  hours1 + minutes1 + seconds1\n",
        "print(f' {q1} แปลงเป็นวินาที ได้ {f1:,} วินาที')"
      ],
      "metadata": {
        "id": "58tK9q70JtUt",
        "outputId": "fcdaac26-bf7d-4404-ea3d-d7abfae641a7",
        "colab": {
          "base_uri": "https://localhost:8080/"
        }
      },
      "execution_count": null,
      "outputs": [
        {
          "output_type": "stream",
          "name": "stdout",
          "text": [
            " 12:30:15 แปลงเป็นวินาที ได้ 45,015 วินาที\n"
          ]
        }
      ]
    },
    {
      "cell_type": "markdown",
      "source": [
        "ข้อที่ 2"
      ],
      "metadata": {
        "id": "0zJKPUAFBp83"
      }
    },
    {
      "cell_type": "code",
      "source": [
        "q2 = '13:41:07'\n",
        "Q2 = q2.split(\":\")\n",
        "hours2 = int(Q2[0])*3600\n",
        "minutes2 = int(Q2[1])*60\n",
        "seconds2 = int(Q2[2])\n",
        "f2 =  hours2 + minutes2 + seconds2\n",
        "print(f' {q2} แปลงเป็นวินาที ได้ {f2:,} วินาที')"
      ],
      "metadata": {
        "id": "yg6heIe-Bnlf",
        "outputId": "bc122184-b525-46fa-a6d9-710de27d5c49",
        "colab": {
          "base_uri": "https://localhost:8080/"
        }
      },
      "execution_count": null,
      "outputs": [
        {
          "output_type": "stream",
          "name": "stdout",
          "text": [
            " 13:41:07 แปลงเป็นวินาที ได้ 49,267 วินาที\n"
          ]
        }
      ]
    },
    {
      "cell_type": "markdown",
      "source": [
        "ข้อที่ 3"
      ],
      "metadata": {
        "id": "25-P9-a9B4i5"
      }
    },
    {
      "cell_type": "code",
      "source": [
        "q3 = '09:11:50'\n",
        "Q3 = q3.split(\":\")\n",
        "hours3 = int(Q3[0])*3600\n",
        "minutes3 = int(Q3[1])*60\n",
        "seconds3 = int(Q3[2])\n",
        "f3 =  hours3 + minutes3 + seconds3\n",
        "print(f' {q3} แปลงเป็นวินาที ได้ {f3:,} วินาที')"
      ],
      "metadata": {
        "id": "tPLpjXJYBwHR",
        "outputId": "e60d2e76-28d4-4fd9-8195-e90ef915dd7c",
        "colab": {
          "base_uri": "https://localhost:8080/"
        }
      },
      "execution_count": null,
      "outputs": [
        {
          "output_type": "stream",
          "name": "stdout",
          "text": [
            " 09:11:50 แปลงเป็นวินาที ได้ 33,110 วินาที\n"
          ]
        }
      ]
    },
    {
      "cell_type": "markdown",
      "source": [
        "ข้อที่ 4"
      ],
      "metadata": {
        "id": "puaJ-2SDCMBE"
      }
    },
    {
      "cell_type": "code",
      "source": [
        "q4 = '21:30:15'\n",
        "Q4 = q4.split(\":\")\n",
        "hours4 = int(Q4[0])*3600\n",
        "minutes4 = int(Q4[1])*60\n",
        "seconds4 = int(Q4[2])\n",
        "f4 =  hours4 + minutes4 + seconds4\n",
        "print(f' {q4} แปลงเป็นวินาที ได้ {f4:,} วินาที')"
      ],
      "metadata": {
        "id": "2KsNwr_OB7_c",
        "outputId": "a1690c10-096b-424f-b5d5-122ef0279708",
        "colab": {
          "base_uri": "https://localhost:8080/"
        }
      },
      "execution_count": null,
      "outputs": [
        {
          "output_type": "stream",
          "name": "stdout",
          "text": [
            " 21:30:15 แปลงเป็นวินาที ได้ 77,415 วินาที\n"
          ]
        }
      ]
    },
    {
      "cell_type": "markdown",
      "source": [
        "ข้อที่ 5"
      ],
      "metadata": {
        "id": "JpQ4iuinC7ak"
      }
    },
    {
      "cell_type": "code",
      "source": [
        "q5 = '03:10:15'\n",
        "Q5 = q5.split(\":\")\n",
        "hours5 = int(Q5[0])*3600\n",
        "minutes5 = int(Q5[1])*60\n",
        "seconds5 = int(Q5[2])\n",
        "f5 =  hours5 + minutes5 + seconds5\n",
        "print(f' {q5} แปลงเป็นวินาที ได้ {f5:,} วินาที')"
      ],
      "metadata": {
        "id": "17OqSY5iCxRQ",
        "outputId": "466cb031-0577-4865-c91b-622d2edc53e8",
        "colab": {
          "base_uri": "https://localhost:8080/"
        }
      },
      "execution_count": null,
      "outputs": [
        {
          "output_type": "stream",
          "name": "stdout",
          "text": [
            " 03:10:15 แปลงเป็นวินาที ได้ 11,415 วินาที\n"
          ]
        }
      ]
    },
    {
      "cell_type": "markdown",
      "source": [
        "HW1\n",
        "\n",
        "คำนวณว่า ช่วงเวลาต่อไปนี้ ห่างกันกี่ ชั่วโมง กี่นาที กี่วินาที (print ออกมาให้สวยงาม)\n",
        "\n",
        "- 12:30:15 - 13:41:07\n",
        "- 09:11:50 - 21:30:15\n",
        "- 19:25:30 - 03:10:15"
      ],
      "metadata": {
        "id": "lzJiRXmT-KUu"
      }
    },
    {
      "cell_type": "markdown",
      "source": [
        "ข้อที่ 1"
      ],
      "metadata": {
        "id": "idW3pmzsm6ty"
      }
    },
    {
      "cell_type": "code",
      "source": [
        "q1 = '12:30:15'\n",
        "Q1 = q1.split(\":\")\n",
        "hours1 = int(Q1[0])*3600\n",
        "minutes1 = int(Q1[1])*60\n",
        "seconds1 = int(Q1[2])\n",
        "q2 = '13:41:07'\n",
        "Q2 = q2.split(\":\")\n",
        "hours2 = int(Q2[0])*3600\n",
        "minutes2 = int(Q2[1])*60\n",
        "seconds2 = int(Q2[2])\n",
        "f1 =  hours1 + minutes1 + seconds1\n",
        "f2 =  hours2 + minutes2 + seconds2\n",
        "f3 = (f2-f1)\n",
        "Hr = int(f3/3600)\n",
        "Mn = int((f3%3600)/60)\n",
        "Sd = int(f3%60)\n",
        "print(f' ช่วงเวลาจาก {q1} ถึง {q2} ห่างกัน {Hr} ชั่วโมง {Mn} นาที {Sd} วินาที')"
      ],
      "metadata": {
        "colab": {
          "base_uri": "https://localhost:8080/"
        },
        "id": "v0B52kC9nDJm",
        "outputId": "02be3f27-c6a6-4ae1-eb93-423550ee7fdb"
      },
      "execution_count": null,
      "outputs": [
        {
          "output_type": "stream",
          "name": "stdout",
          "text": [
            " ช่วงเวลาจาก 12:30:15 ถึง 13:41:07 ห่างกัน 1 ชั่วโมง 10 นาที 52 วินาที\n"
          ]
        }
      ]
    },
    {
      "cell_type": "markdown",
      "source": [
        "ข้อที่ 2"
      ],
      "metadata": {
        "id": "5i48I8LUnFVy"
      }
    },
    {
      "cell_type": "code",
      "source": [
        "q4 = '09:11:50'\n",
        "Q4 = q4.split(\":\")\n",
        "hours4 = int(Q4[0])*3600\n",
        "minutes4 = int(Q4[1])*60\n",
        "seconds4 = int(Q4[2])\n",
        "q5 = '21:30:15'\n",
        "Q5 = q5.split(\":\")\n",
        "hours5 = int(Q5[0])*3600\n",
        "minutes5 = int(Q5[1])*60\n",
        "seconds5 = int(Q5[2])\n",
        "f4 =  hours4 + minutes4 + seconds4\n",
        "f5 =  hours5 + minutes5 + seconds5\n",
        "f6 = (f5-f4)\n",
        "Hr = int(f6/3600)\n",
        "Mn = int((f6%3600)/60)\n",
        "Sd = int(f6%60)\n",
        "print(f' ช่วงเวลาจาก {q4} ถึง {q5} ห่างกัน {Hr} ชั่วโมง {Mn} นาที {Sd} วินาที')"
      ],
      "metadata": {
        "colab": {
          "base_uri": "https://localhost:8080/"
        },
        "id": "sxU90Yldzaez",
        "outputId": "9d6663e0-08fe-4faa-a2d7-9af436375ebd"
      },
      "execution_count": null,
      "outputs": [
        {
          "output_type": "stream",
          "name": "stdout",
          "text": [
            " ช่วงเวลาจาก 09:11:50 ถึง 21:30:15 ห่างกัน 12 ชั่วโมง 18 นาที 25 วินาที\n"
          ]
        }
      ]
    },
    {
      "cell_type": "markdown",
      "source": [
        "ข้อที่ 3"
      ],
      "metadata": {
        "id": "ERa25_gVnG4v"
      }
    },
    {
      "cell_type": "code",
      "source": [
        "q7 = '19:25:30'\n",
        "Q7 = q7.split(\":\")\n",
        "hours7 = int(Q7[0])*3600\n",
        "minutes7 = int(Q7[1])*60\n",
        "seconds7 = int(Q7[2])\n",
        "q8 = '03:10:15'\n",
        "Q8 = q8.split(\":\")\n",
        "hours8 = int(Q8[0])*3600\n",
        "minutes8 = int(Q8[1])*60\n",
        "seconds8 = int(Q8[2])\n",
        "f7 =  hours7 + minutes7 + seconds7\n",
        "f8 =  hours8 + minutes8 + seconds8 + (24*60*60)\n",
        "f9 = (f8-f7)\n",
        "Hr = int(f9/3600)\n",
        "Mn = int((f9%3600)/60)\n",
        "Sd = int(f9%60)\n",
        "print(f' ช่วงเวลาจาก {q7} ถึง {q8} ห่างกัน {Hr} ชั่วโมง {Mn} นาที {Sd} วินาที')"
      ],
      "metadata": {
        "colab": {
          "base_uri": "https://localhost:8080/"
        },
        "id": "cpljMCa2nJTH",
        "outputId": "92e068ae-ab93-46af-878e-34d8603df7b7"
      },
      "execution_count": null,
      "outputs": [
        {
          "output_type": "stream",
          "name": "stdout",
          "text": [
            " ช่วงเวลาจาก 19:25:30 ถึง 03:10:15 ห่างกัน 7 ชั่วโมง 44 นาที 45 วินาที\n"
          ]
        }
      ]
    },
    {
      "cell_type": "markdown",
      "source": [],
      "metadata": {
        "id": "B_Nk3vwOnCSr"
      }
    },
    {
      "cell_type": "markdown",
      "source": [
        "## Dictionary"
      ],
      "metadata": {
        "id": "cfw-9tBuOrd6"
      }
    },
    {
      "cell_type": "markdown",
      "source": [
        "- คล้าย list()\n",
        "- index เป็นอะไรก็ได้ ไม่จำเป็นต้องเป็นตัวเลขลำดับ\n",
        "- ลำดับไม่มีความสำคัญ"
      ],
      "metadata": {
        "id": "hRbzgS00PMeZ"
      }
    },
    {
      "cell_type": "markdown",
      "source": [
        "### สร้าง Dictionary"
      ],
      "metadata": {
        "id": "nOJn1yUcRAug"
      }
    },
    {
      "cell_type": "code",
      "source": [
        "dict_a = {1:'Happy','N':'New','2022':'Year'} # { } เรียกว่า curly brackets"
      ],
      "metadata": {
        "id": "JO4DdI_YO--S"
      },
      "execution_count": 1,
      "outputs": []
    },
    {
      "cell_type": "code",
      "source": [
        "dict_a"
      ],
      "metadata": {
        "colab": {
          "base_uri": "https://localhost:8080/"
        },
        "id": "II_I4DeWy0Yz",
        "outputId": "b6285886-7593-4217-ef72-25a02917f590"
      },
      "execution_count": 2,
      "outputs": [
        {
          "output_type": "execute_result",
          "data": {
            "text/plain": [
              "{1: 'Happy', 'N': 'New', '2022': 'Year'}"
            ]
          },
          "metadata": {},
          "execution_count": 2
        }
      ]
    },
    {
      "cell_type": "markdown",
      "source": [
        "### การชี้ สมาชิกใน Dictionary"
      ],
      "metadata": {
        "id": "wortLkobRGZ5"
      }
    },
    {
      "cell_type": "code",
      "source": [
        "dict_a[1] # ชี้ตัวที่ 1"
      ],
      "metadata": {
        "colab": {
          "base_uri": "https://localhost:8080/",
          "height": 36
        },
        "id": "YbHKxX0vQQFy",
        "outputId": "fa7a6505-4ed9-4e78-ff37-a8174d9c44c1"
      },
      "execution_count": 3,
      "outputs": [
        {
          "output_type": "execute_result",
          "data": {
            "text/plain": [
              "'Happy'"
            ],
            "application/vnd.google.colaboratory.intrinsic+json": {
              "type": "string"
            }
          },
          "metadata": {},
          "execution_count": 3
        }
      ]
    },
    {
      "cell_type": "code",
      "source": [
        "dict_a['N'] # กำหนดว่าตัว N คือ New"
      ],
      "metadata": {
        "colab": {
          "base_uri": "https://localhost:8080/",
          "height": 36
        },
        "id": "npYbBbi3QV8w",
        "outputId": "5293f729-3520-463d-d1ae-0da40ca8b24b"
      },
      "execution_count": 4,
      "outputs": [
        {
          "output_type": "execute_result",
          "data": {
            "text/plain": [
              "'New'"
            ],
            "application/vnd.google.colaboratory.intrinsic+json": {
              "type": "string"
            }
          },
          "metadata": {},
          "execution_count": 4
        }
      ]
    },
    {
      "cell_type": "code",
      "source": [
        "dict_a.keys() # เเสดงผลของ keys ขึ้นมา"
      ],
      "metadata": {
        "colab": {
          "base_uri": "https://localhost:8080/"
        },
        "id": "hkqvpV3OQb7J",
        "outputId": "c6f7625e-1a67-4bc5-e6e7-9c4e507dfff6"
      },
      "execution_count": 5,
      "outputs": [
        {
          "output_type": "execute_result",
          "data": {
            "text/plain": [
              "dict_keys([1, 'N', '2022'])"
            ]
          },
          "metadata": {},
          "execution_count": 5
        }
      ]
    },
    {
      "cell_type": "code",
      "source": [
        "dict_a.values() # เเสดงผลของค่าผลลัพธ์"
      ],
      "metadata": {
        "colab": {
          "base_uri": "https://localhost:8080/"
        },
        "id": "QgtRzEGuQvzJ",
        "outputId": "ebc4aa61-b3fa-49b0-8a96-f453043822f6"
      },
      "execution_count": 6,
      "outputs": [
        {
          "output_type": "execute_result",
          "data": {
            "text/plain": [
              "dict_values(['Happy', 'New', 'Year'])"
            ]
          },
          "metadata": {},
          "execution_count": 6
        }
      ]
    },
    {
      "cell_type": "markdown",
      "source": [
        "### การเพิ่มสมาชิกลงไปใน Dictionary"
      ],
      "metadata": {
        "id": "6XlSkqMYRL6J"
      }
    },
    {
      "cell_type": "code",
      "source": [
        "dict_a[7] = 3.14 # keys 7 มีค่าเท่ากับ 3.14"
      ],
      "metadata": {
        "id": "-IklRCZWQ3lj"
      },
      "execution_count": 7,
      "outputs": []
    },
    {
      "cell_type": "code",
      "source": [
        "dict_a # เพิ่มสมาชิกขึ้นมา keys 7 มีค่าเท่ากับ 3.14"
      ],
      "metadata": {
        "colab": {
          "base_uri": "https://localhost:8080/"
        },
        "id": "nXExzxBqRZDj",
        "outputId": "8ddc146f-54c1-4d3c-dfaf-41a54fb0c33c"
      },
      "execution_count": 8,
      "outputs": [
        {
          "output_type": "execute_result",
          "data": {
            "text/plain": [
              "{1: 'Happy', 'N': 'New', '2022': 'Year', 7: 3.14}"
            ]
          },
          "metadata": {},
          "execution_count": 8
        }
      ]
    },
    {
      "cell_type": "code",
      "source": [
        "dict_a[7] = 2023 #กรณีใส่ index ซ้ำก็จะใส่ค่าที่เดิม"
      ],
      "metadata": {
        "id": "04bZu2q1z_F8"
      },
      "execution_count": 9,
      "outputs": []
    },
    {
      "cell_type": "code",
      "source": [
        "dict_a # เพิ่มสมาชิกขึ้นมา keys 7 มีค่าเท่ากับ 2023"
      ],
      "metadata": {
        "colab": {
          "base_uri": "https://localhost:8080/"
        },
        "id": "i7D9ghNJ0OVP",
        "outputId": "49c2f101-dca3-4868-d5b1-e2c8f06a88e0"
      },
      "execution_count": 10,
      "outputs": [
        {
          "output_type": "execute_result",
          "data": {
            "text/plain": [
              "{1: 'Happy', 'N': 'New', '2022': 'Year', 7: 2023}"
            ]
          },
          "metadata": {},
          "execution_count": 10
        }
      ]
    },
    {
      "cell_type": "code",
      "source": [
        "dict_a['N'] = 'NNNNEEEEWWWW' # keys N มีค่าเท่ากับ NNNNEEEEWWWW"
      ],
      "metadata": {
        "id": "0_jOYSTLRmiY"
      },
      "execution_count": null,
      "outputs": []
    },
    {
      "cell_type": "code",
      "source": [
        "dict_a # เพิ่มสมาชิกขึ้นมา keys N มีค่าเท่ากับ NNNNEEEEWWWW"
      ],
      "metadata": {
        "colab": {
          "base_uri": "https://localhost:8080/"
        },
        "id": "pkEbW_3BRtbx",
        "outputId": "d35f8b91-e7be-45dd-b99f-fad5cf9505e7"
      },
      "execution_count": null,
      "outputs": [
        {
          "output_type": "execute_result",
          "data": {
            "text/plain": [
              "{1: 'Happy', '2022': 'Year', 7: 3.14, 'N': 'NNNNEEEEWWWW'}"
            ]
          },
          "metadata": {},
          "execution_count": 73
        }
      ]
    },
    {
      "cell_type": "markdown",
      "source": [
        "## Numpy Array"
      ],
      "metadata": {
        "id": "3_vbxiSlOwpp"
      }
    },
    {
      "cell_type": "markdown",
      "source": [
        "![image.png](data:image/png;base64,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)"
      ],
      "metadata": {
        "id": "Ea3IH0RFSgd4"
      }
    },
    {
      "cell_type": "markdown",
      "source": [
        "- เก็บได้เเต่ตัวเลข\n",
        "- อ้างอิงโดยใช้ พิกัด (2 มิติ ก็มองเป็น Matrix)"
      ],
      "metadata": {
        "id": "253VnNGpUVl_"
      }
    },
    {
      "cell_type": "markdown",
      "source": [
        "### 1D array"
      ],
      "metadata": {
        "id": "-0F9CC73YH-W"
      }
    },
    {
      "cell_type": "code",
      "source": [
        "import numpy # การเรียกใช้งาน package"
      ],
      "metadata": {
        "id": "IagF0X0JSgz4"
      },
      "execution_count": 11,
      "outputs": []
    },
    {
      "cell_type": "code",
      "source": [
        "list_A = [1,2,3,4,5] # สร้าง list"
      ],
      "metadata": {
        "id": "y8GeL7EVVtum"
      },
      "execution_count": 12,
      "outputs": []
    },
    {
      "cell_type": "code",
      "source": [
        "arr_a = numpy.array(list_A) # สร้าง list ให้เเปลงเป็น array"
      ],
      "metadata": {
        "id": "kRpe_NuNVSnG"
      },
      "execution_count": 13,
      "outputs": []
    },
    {
      "cell_type": "code",
      "source": [
        "arr_a # เเสดงผลลัพธ์ของ list arr_a"
      ],
      "metadata": {
        "colab": {
          "base_uri": "https://localhost:8080/"
        },
        "id": "j2Fn84S2VlHS",
        "outputId": "67b42f17-786e-4840-f7c3-1a315795e64b"
      },
      "execution_count": 14,
      "outputs": [
        {
          "output_type": "execute_result",
          "data": {
            "text/plain": [
              "array([1, 2, 3, 4, 5])"
            ]
          },
          "metadata": {},
          "execution_count": 14
        }
      ]
    },
    {
      "cell_type": "code",
      "source": [
        "arr_a[0] # ชี้สมาชิกตัวที่ 0"
      ],
      "metadata": {
        "colab": {
          "base_uri": "https://localhost:8080/"
        },
        "id": "z3kaxYvNVple",
        "outputId": "200e7020-2567-443d-d390-63849a657e44"
      },
      "execution_count": 15,
      "outputs": [
        {
          "output_type": "execute_result",
          "data": {
            "text/plain": [
              "1"
            ]
          },
          "metadata": {},
          "execution_count": 15
        }
      ]
    },
    {
      "cell_type": "code",
      "source": [
        "list_A[0] # ชี้สมาชิกตัวที่ 0"
      ],
      "metadata": {
        "colab": {
          "base_uri": "https://localhost:8080/"
        },
        "id": "gZea0RskV-lB",
        "outputId": "a5c01d59-3229-4254-e722-58516fed6d7e"
      },
      "execution_count": 16,
      "outputs": [
        {
          "output_type": "execute_result",
          "data": {
            "text/plain": [
              "1"
            ]
          },
          "metadata": {},
          "execution_count": 16
        }
      ]
    },
    {
      "cell_type": "code",
      "source": [
        "5 * arr_a # คุณสมบัติของ Matrix (scalar multiplication) คูณกระจายเข้าไปเเต่ละตัวใน Matrix"
      ],
      "metadata": {
        "colab": {
          "base_uri": "https://localhost:8080/"
        },
        "id": "EbHREu9VWJNW",
        "outputId": "a97209c8-9ca6-4bab-fcff-fc5f2fee3f3b"
      },
      "execution_count": 17,
      "outputs": [
        {
          "output_type": "execute_result",
          "data": {
            "text/plain": [
              "array([ 5, 10, 15, 20, 25])"
            ]
          },
          "metadata": {},
          "execution_count": 17
        }
      ]
    },
    {
      "cell_type": "code",
      "source": [
        "5 * list_A # duplicate มา 5 รอบ (ตัวซ้ำ)"
      ],
      "metadata": {
        "colab": {
          "base_uri": "https://localhost:8080/"
        },
        "id": "3E19608oWjDn",
        "outputId": "7e38a551-876b-4994-c174-4f493d940fa3"
      },
      "execution_count": 18,
      "outputs": [
        {
          "output_type": "execute_result",
          "data": {
            "text/plain": [
              "[1, 2, 3, 4, 5, 1, 2, 3, 4, 5, 1, 2, 3, 4, 5, 1, 2, 3, 4, 5, 1, 2, 3, 4, 5]"
            ]
          },
          "metadata": {},
          "execution_count": 18
        }
      ]
    },
    {
      "cell_type": "code",
      "source": [
        "arr_b = numpy.array([10,20,30,40,50]) # สร้าง list arr_b ให้เเปลงเป็น array"
      ],
      "metadata": {
        "id": "hUw-s3j0XKAS"
      },
      "execution_count": 19,
      "outputs": []
    },
    {
      "cell_type": "code",
      "source": [
        "print(arr_a) # จะเเสดงออกมาเป็นตัวเลขปกติ"
      ],
      "metadata": {
        "colab": {
          "base_uri": "https://localhost:8080/"
        },
        "id": "hoQ6fEsVXZ3Q",
        "outputId": "a64cf88a-c062-4676-9277-5e9e6cbc9f74"
      },
      "execution_count": 20,
      "outputs": [
        {
          "output_type": "stream",
          "name": "stdout",
          "text": [
            "[1 2 3 4 5]\n"
          ]
        }
      ]
    },
    {
      "cell_type": "code",
      "source": [
        "arr_a + arr_b # ก็จะเอาตำเเหน่งเดียวกันมาบวกกัน"
      ],
      "metadata": {
        "colab": {
          "base_uri": "https://localhost:8080/"
        },
        "id": "4AWoU--sXn-G",
        "outputId": "4da82b90-e661-406e-a980-0445ff8adb7f"
      },
      "execution_count": 21,
      "outputs": [
        {
          "output_type": "execute_result",
          "data": {
            "text/plain": [
              "array([11, 22, 33, 44, 55])"
            ]
          },
          "metadata": {},
          "execution_count": 21
        }
      ]
    },
    {
      "cell_type": "code",
      "source": [
        "arr_a.shape # ดู shape ของ matrix"
      ],
      "metadata": {
        "colab": {
          "base_uri": "https://localhost:8080/"
        },
        "id": "PW6bxH_qZvpX",
        "outputId": "2caf77b1-6fc2-4d75-ac45-2d3fac1b6e32"
      },
      "execution_count": 22,
      "outputs": [
        {
          "output_type": "execute_result",
          "data": {
            "text/plain": [
              "(5,)"
            ]
          },
          "metadata": {},
          "execution_count": 22
        }
      ]
    },
    {
      "cell_type": "markdown",
      "source": [
        "### 2D array"
      ],
      "metadata": {
        "id": "xgLGLsytYDYO"
      }
    },
    {
      "cell_type": "code",
      "source": [
        "import numpy as np # import เเล้วเปลี่ยนชื่อ จาก numpy(นัมพาย) เป็น np"
      ],
      "metadata": {
        "id": "hXAdabpKYT-3"
      },
      "execution_count": 23,
      "outputs": []
    },
    {
      "cell_type": "code",
      "source": [
        "arr2_z = np.array([[1,2,3],[4,5,6]]) # สร้าง list ซ้อน list # 2 แถว 3 หลัก(ข้างใน แถว มี 3 หลัก)"
      ],
      "metadata": {
        "id": "3iH_fTnEYKgd"
      },
      "execution_count": 24,
      "outputs": []
    },
    {
      "cell_type": "code",
      "source": [
        "arr2_z # ได้ list ที่มี สองเเถว สามหลัก"
      ],
      "metadata": {
        "colab": {
          "base_uri": "https://localhost:8080/"
        },
        "id": "pMXNzWApY9KO",
        "outputId": "0fb29d9c-a847-4507-dbf2-709a40bc3d21"
      },
      "execution_count": 25,
      "outputs": [
        {
          "output_type": "execute_result",
          "data": {
            "text/plain": [
              "array([[1, 2, 3],\n",
              "       [4, 5, 6]])"
            ]
          },
          "metadata": {},
          "execution_count": 25
        }
      ]
    },
    {
      "cell_type": "code",
      "source": [
        "arr2_z.shape # ดู shape ของ matrix"
      ],
      "metadata": {
        "colab": {
          "base_uri": "https://localhost:8080/"
        },
        "id": "9lks4kd7Zjts",
        "outputId": "97929ddf-6350-45b7-c07f-97c5b675b0fa"
      },
      "execution_count": 26,
      "outputs": [
        {
          "output_type": "execute_result",
          "data": {
            "text/plain": [
              "(2, 3)"
            ]
          },
          "metadata": {},
          "execution_count": 26
        }
      ]
    },
    {
      "cell_type": "code",
      "source": [
        "arr2_z[1,1]"
      ],
      "metadata": {
        "colab": {
          "base_uri": "https://localhost:8080/"
        },
        "id": "cUe_tmWP4y-f",
        "outputId": "04de518a-9ad7-4f8e-b11a-551613a195cf"
      },
      "execution_count": 29,
      "outputs": [
        {
          "output_type": "execute_result",
          "data": {
            "text/plain": [
              "5"
            ]
          },
          "metadata": {},
          "execution_count": 29
        }
      ]
    },
    {
      "cell_type": "markdown",
      "source": [
        "`np.zeros()`\n",
        "\n"
      ],
      "metadata": {
        "id": "y5gL9iQtZbH-"
      }
    },
    {
      "cell_type": "code",
      "source": [
        "arr2_3_5_0 = np.zeros((3,5)) # สร้าง array 0 ที่มี 3 เเถว 5 หลัก"
      ],
      "metadata": {
        "id": "A0d3SHQlZCjN"
      },
      "execution_count": 27,
      "outputs": []
    },
    {
      "cell_type": "code",
      "source": [
        "arr2_3_5_0 # array ตั้งต้น"
      ],
      "metadata": {
        "colab": {
          "base_uri": "https://localhost:8080/"
        },
        "id": "xKKIZFTGaLL-",
        "outputId": "da6586a9-e391-41d2-8a6e-5161b281f4d1"
      },
      "execution_count": 28,
      "outputs": [
        {
          "output_type": "execute_result",
          "data": {
            "text/plain": [
              "array([[0., 0., 0., 0., 0.],\n",
              "       [0., 0., 0., 0., 0.],\n",
              "       [0., 0., 0., 0., 0.]])"
            ]
          },
          "metadata": {},
          "execution_count": 28
        }
      ]
    },
    {
      "cell_type": "code",
      "source": [
        "arr2_3_5_0[1,2] = 9 # arr[เเถว,หลัก] มีค่าเท่ากับ 9"
      ],
      "metadata": {
        "id": "49Tm3yKLaVhk"
      },
      "execution_count": 30,
      "outputs": []
    },
    {
      "cell_type": "code",
      "source": [
        "arr2_3_5_0 # เมื่อเติมเลข 9 เเล้ว"
      ],
      "metadata": {
        "colab": {
          "base_uri": "https://localhost:8080/"
        },
        "id": "oDyOMxpPamGR",
        "outputId": "2d825534-db3f-493f-cde4-f6c9c3391495"
      },
      "execution_count": 31,
      "outputs": [
        {
          "output_type": "execute_result",
          "data": {
            "text/plain": [
              "array([[0., 0., 0., 0., 0.],\n",
              "       [0., 0., 9., 0., 0.],\n",
              "       [0., 0., 0., 0., 0.]])"
            ]
          },
          "metadata": {},
          "execution_count": 31
        }
      ]
    },
    {
      "cell_type": "code",
      "source": [
        "arr2_3_5_0[1,2] # บอกค่าของ ตำเเหน่ง เเถว 1 หลัก 2 มีค่าเท่ากับ 9.0"
      ],
      "metadata": {
        "colab": {
          "base_uri": "https://localhost:8080/"
        },
        "id": "iUklcsVdaqS2",
        "outputId": "93391d1d-3a87-4789-ff7a-cc9bbe516d45"
      },
      "execution_count": 32,
      "outputs": [
        {
          "output_type": "execute_result",
          "data": {
            "text/plain": [
              "9.0"
            ]
          },
          "metadata": {},
          "execution_count": 32
        }
      ]
    },
    {
      "cell_type": "code",
      "source": [
        "print(list_A) # เปลี่ยนค่าใน list()\n",
        "list_A[-1] = 'Christmas' # เปลี่ยนค่าตัวสุดท้าย ให้เป็น Christmas\n",
        "print(list_A) # เเสดงผลออกมา"
      ],
      "metadata": {
        "colab": {
          "base_uri": "https://localhost:8080/"
        },
        "id": "AmgRjVJabVMt",
        "outputId": "8a934cda-941b-4dde-c575-63a63c4b2795"
      },
      "execution_count": null,
      "outputs": [
        {
          "output_type": "stream",
          "name": "stdout",
          "text": [
            "[1, 2, 3, 4, 'Christmas']\n",
            "[1, 2, 3, 4, 'Christmas']\n"
          ]
        }
      ]
    },
    {
      "cell_type": "markdown",
      "source": [
        "`np.ones()`"
      ],
      "metadata": {
        "id": "S5ZLaHz6b-XX"
      }
    },
    {
      "cell_type": "code",
      "source": [
        "arr2_4_5_1 = np.ones((4,5)) # มี 4 เเถว 5 หลัก"
      ],
      "metadata": {
        "id": "EIxbS322cB7G"
      },
      "execution_count": 33,
      "outputs": []
    },
    {
      "cell_type": "code",
      "source": [
        "arr2_4_5_1 # ค่าเป็น 1 หมด"
      ],
      "metadata": {
        "colab": {
          "base_uri": "https://localhost:8080/"
        },
        "id": "VjV6zUm0cGaU",
        "outputId": "13ed75cf-12e9-4a9a-c666-e60afef13c98"
      },
      "execution_count": 34,
      "outputs": [
        {
          "output_type": "execute_result",
          "data": {
            "text/plain": [
              "array([[1., 1., 1., 1., 1.],\n",
              "       [1., 1., 1., 1., 1.],\n",
              "       [1., 1., 1., 1., 1.],\n",
              "       [1., 1., 1., 1., 1.]])"
            ]
          },
          "metadata": {},
          "execution_count": 34
        }
      ]
    },
    {
      "cell_type": "code",
      "source": [
        "arr2_4_5_200 = 200 * np.ones((4,5)) # การคูณ 200 กับ matrix ones"
      ],
      "metadata": {
        "id": "h1oyLcJQcfas"
      },
      "execution_count": 35,
      "outputs": []
    },
    {
      "cell_type": "code",
      "source": [
        "arr2_4_5_200 # ก็จะออกมาเป็น 200 ทั้งหมด"
      ],
      "metadata": {
        "colab": {
          "base_uri": "https://localhost:8080/"
        },
        "id": "vjFcEvRIcpje",
        "outputId": "3313d768-450c-4e20-fb85-c71868a72930"
      },
      "execution_count": 36,
      "outputs": [
        {
          "output_type": "execute_result",
          "data": {
            "text/plain": [
              "array([[200., 200., 200., 200., 200.],\n",
              "       [200., 200., 200., 200., 200.],\n",
              "       [200., 200., 200., 200., 200.],\n",
              "       [200., 200., 200., 200., 200.]])"
            ]
          },
          "metadata": {},
          "execution_count": 36
        }
      ]
    },
    {
      "cell_type": "markdown",
      "source": [
        "### Matrix operations"
      ],
      "metadata": {
        "id": "KaMfk55Kcyhu"
      }
    },
    {
      "cell_type": "markdown",
      "source": [
        "#### การบวก ลบ matrix $M \\pm N$ บวกลบตัวที่อยู่ตำเเหน่งเดียวกัน"
      ],
      "metadata": {
        "id": "l5r5YasWc8ed"
      }
    },
    {
      "cell_type": "code",
      "source": [
        "arr2_4_5_200 + arr2_3_5_0 # shape ไม่เท่ากัน # การบวก ลบ  matrix shape ต้องมีขนาดเท่ากัน #บวกลบกันไม่ได้"
      ],
      "metadata": {
        "colab": {
          "base_uri": "https://localhost:8080/",
          "height": 165
        },
        "id": "IGkMkzuQc8RM",
        "outputId": "b6a8db86-5831-4011-e660-e9c85ef9cced"
      },
      "execution_count": 37,
      "outputs": [
        {
          "output_type": "error",
          "ename": "ValueError",
          "evalue": "ignored",
          "traceback": [
            "\u001b[0;31m---------------------------------------------------------------------------\u001b[0m",
            "\u001b[0;31mValueError\u001b[0m                                Traceback (most recent call last)",
            "\u001b[0;32m<ipython-input-37-a785c2be5c10>\u001b[0m in \u001b[0;36m<cell line: 1>\u001b[0;34m()\u001b[0m\n\u001b[0;32m----> 1\u001b[0;31m \u001b[0marr2_4_5_200\u001b[0m \u001b[0;34m+\u001b[0m \u001b[0marr2_3_5_0\u001b[0m \u001b[0;31m# shape ไม่เท่ากัน # การบวก ลบ  matrix shape ต้องมีขนาดเท่ากัน\u001b[0m\u001b[0;34m\u001b[0m\u001b[0;34m\u001b[0m\u001b[0m\n\u001b[0m",
            "\u001b[0;31mValueError\u001b[0m: operands could not be broadcast together with shapes (4,5) (3,5) "
          ]
        }
      ]
    },
    {
      "cell_type": "code",
      "source": [
        "arr2_4_5_200 + arr2_4_5_1 # shape เท่ากันจึงสามารถบวกกันได้"
      ],
      "metadata": {
        "colab": {
          "base_uri": "https://localhost:8080/"
        },
        "id": "A_hdZMC0dQKk",
        "outputId": "59f058ce-e878-4f45-9359-627efcc2134b"
      },
      "execution_count": 38,
      "outputs": [
        {
          "output_type": "execute_result",
          "data": {
            "text/plain": [
              "array([[201., 201., 201., 201., 201.],\n",
              "       [201., 201., 201., 201., 201.],\n",
              "       [201., 201., 201., 201., 201.],\n",
              "       [201., 201., 201., 201., 201.]])"
            ]
          },
          "metadata": {},
          "execution_count": 38
        }
      ]
    },
    {
      "cell_type": "markdown",
      "source": [
        "#### การคูณ matrix\n",
        "\n",
        "\n",
        "- $aM$ Scalar คูณ Matrix (Scalar คูณกระจายเข้าไปทุกตัวของ Matrix)\n",
        "- $M\\times N$ Matrix คูณ Matrix (แถวคูณหลัก)"
      ],
      "metadata": {
        "id": "3m59NhRKdbQ0"
      }
    },
    {
      "cell_type": "markdown",
      "source": [
        "$aM$"
      ],
      "metadata": {
        "id": "AU0NLEl6eyG2"
      }
    },
    {
      "cell_type": "code",
      "source": [
        "5 * arr_a # คุณสมบัติของ Matrix (scalar multiplication)"
      ],
      "metadata": {
        "colab": {
          "base_uri": "https://localhost:8080/"
        },
        "id": "c4bkOZiXecLD",
        "outputId": "cb266c1f-476a-40bc-e404-d0ee82057f7f"
      },
      "execution_count": 39,
      "outputs": [
        {
          "output_type": "execute_result",
          "data": {
            "text/plain": [
              "array([ 5, 10, 15, 20, 25])"
            ]
          },
          "metadata": {},
          "execution_count": 39
        }
      ]
    },
    {
      "cell_type": "markdown",
      "source": [
        "$M\\times N$ (dot product)\n",
        "\n",
        "- (m,n) $\\times$ (n,o) = (m,o) (Shape)"
      ],
      "metadata": {
        "id": "-Krrs7Eke04q"
      }
    },
    {
      "cell_type": "markdown",
      "source": [
        "![image.png](data:image/png;base64,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)"
      ],
      "metadata": {
        "id": "iAQ1l3YTfiNj"
      }
    },
    {
      "cell_type": "code",
      "source": [
        "mat_a = np.array([[2,3,5],[4,6,7]]) # สร้าง Matrix 3 ตัว\n",
        "mat_b = np.array([[1,2,5],[2,4,-7]])\n",
        "mat_c = np.array([[2,3],[4,6],[7,9]])"
      ],
      "metadata": {
        "id": "RPJwJVeKe1nT"
      },
      "execution_count": 40,
      "outputs": []
    },
    {
      "cell_type": "code",
      "source": [
        "mat_a # แสดงผลลัพธ์"
      ],
      "metadata": {
        "colab": {
          "base_uri": "https://localhost:8080/"
        },
        "id": "8J2Wg5hhgNjT",
        "outputId": "80246b48-64f7-4b7a-ba9b-1f4b16f12630"
      },
      "execution_count": 41,
      "outputs": [
        {
          "output_type": "execute_result",
          "data": {
            "text/plain": [
              "array([[2, 3, 5],\n",
              "       [4, 6, 7]])"
            ]
          },
          "metadata": {},
          "execution_count": 41
        }
      ]
    },
    {
      "cell_type": "code",
      "source": [
        "mat_b # แสดงผลลัพธ์"
      ],
      "metadata": {
        "colab": {
          "base_uri": "https://localhost:8080/"
        },
        "id": "DsbR04TcgOwS",
        "outputId": "db02b9e2-de8e-456a-bf39-9e561667681b"
      },
      "execution_count": 42,
      "outputs": [
        {
          "output_type": "execute_result",
          "data": {
            "text/plain": [
              "array([[ 1,  2,  5],\n",
              "       [ 2,  4, -7]])"
            ]
          },
          "metadata": {},
          "execution_count": 42
        }
      ]
    },
    {
      "cell_type": "code",
      "source": [
        "mat_c # แสดงผลลัพธ์"
      ],
      "metadata": {
        "colab": {
          "base_uri": "https://localhost:8080/"
        },
        "id": "qe-s_XrOgOyq",
        "outputId": "27a826a4-14dc-4353-ed94-49e5d70ccba0"
      },
      "execution_count": 43,
      "outputs": [
        {
          "output_type": "execute_result",
          "data": {
            "text/plain": [
              "array([[2, 3],\n",
              "       [4, 6],\n",
              "       [7, 9]])"
            ]
          },
          "metadata": {},
          "execution_count": 43
        }
      ]
    },
    {
      "cell_type": "markdown",
      "source": [
        "axc,bxc,cxa,cxb"
      ],
      "metadata": {
        "id": "plMufyaJgbyy"
      }
    },
    {
      "cell_type": "code",
      "source": [
        "np.dot(mat_a,mat_c) # a x c"
      ],
      "metadata": {
        "colab": {
          "base_uri": "https://localhost:8080/"
        },
        "id": "NKYKRj07gO1R",
        "outputId": "9490de40-2157-4d31-9cb9-76f48eeb52d1"
      },
      "execution_count": 44,
      "outputs": [
        {
          "output_type": "execute_result",
          "data": {
            "text/plain": [
              "array([[ 51,  69],\n",
              "       [ 81, 111]])"
            ]
          },
          "metadata": {},
          "execution_count": 44
        }
      ]
    },
    {
      "cell_type": "code",
      "source": [
        "np.dot(mat_b,mat_c)  # b x c"
      ],
      "metadata": {
        "colab": {
          "base_uri": "https://localhost:8080/"
        },
        "id": "nHwgaOmCgO3a",
        "outputId": "559f44c8-9e1d-4efa-ce03-3b71d82f344d"
      },
      "execution_count": 45,
      "outputs": [
        {
          "output_type": "execute_result",
          "data": {
            "text/plain": [
              "array([[ 45,  60],\n",
              "       [-29, -33]])"
            ]
          },
          "metadata": {},
          "execution_count": 45
        }
      ]
    },
    {
      "cell_type": "code",
      "source": [
        "np.dot(mat_c,mat_a)  # c x a"
      ],
      "metadata": {
        "colab": {
          "base_uri": "https://localhost:8080/"
        },
        "id": "C5PzhxDUgz1t",
        "outputId": "a5f19710-d0eb-4fde-ed0e-228dbe4658d6"
      },
      "execution_count": 46,
      "outputs": [
        {
          "output_type": "execute_result",
          "data": {
            "text/plain": [
              "array([[16, 24, 31],\n",
              "       [32, 48, 62],\n",
              "       [50, 75, 98]])"
            ]
          },
          "metadata": {},
          "execution_count": 46
        }
      ]
    },
    {
      "cell_type": "code",
      "source": [
        "mat_X = np.dot(mat_c,mat_b)  # c x b\n",
        "print(mat_X)"
      ],
      "metadata": {
        "colab": {
          "base_uri": "https://localhost:8080/"
        },
        "id": "tySGc-Qegz4K",
        "outputId": "5b830a6a-c2d1-4360-eb0a-a44fff46577a"
      },
      "execution_count": 47,
      "outputs": [
        {
          "output_type": "stream",
          "name": "stdout",
          "text": [
            "[[  8  16 -11]\n",
            " [ 16  32 -22]\n",
            " [ 25  50 -28]]\n"
          ]
        }
      ]
    },
    {
      "cell_type": "code",
      "source": [
        "mat_a * mat_b # คูณตัวตำเเหน่งเดียวกัน"
      ],
      "metadata": {
        "colab": {
          "base_uri": "https://localhost:8080/"
        },
        "id": "iD5WOUp5hTVM",
        "outputId": "e3ac0ac8-b52a-427a-ddde-dbd09780a777"
      },
      "execution_count": 48,
      "outputs": [
        {
          "output_type": "execute_result",
          "data": {
            "text/plain": [
              "array([[  2,   6,  25],\n",
              "       [  8,  24, -49]])"
            ]
          },
          "metadata": {},
          "execution_count": 48
        }
      ]
    },
    {
      "cell_type": "markdown",
      "source": [
        "สร้าง identity matrix ได้ด้วย np.eye(ขนาด)"
      ],
      "metadata": {
        "id": "mshpolas9u0e"
      }
    },
    {
      "cell_type": "code",
      "source": [
        "np.eye(5)"
      ],
      "metadata": {
        "colab": {
          "base_uri": "https://localhost:8080/"
        },
        "id": "2Gy7vb6N9hxF",
        "outputId": "a8abe0ba-31b9-4632-8f21-86737d41c496"
      },
      "execution_count": 50,
      "outputs": [
        {
          "output_type": "execute_result",
          "data": {
            "text/plain": [
              "array([[1., 0., 0., 0., 0.],\n",
              "       [0., 1., 0., 0., 0.],\n",
              "       [0., 0., 1., 0., 0.],\n",
              "       [0., 0., 0., 1., 0.],\n",
              "       [0., 0., 0., 0., 1.]])"
            ]
          },
          "metadata": {},
          "execution_count": 50
        }
      ]
    },
    {
      "cell_type": "code",
      "source": [
        "mat_X = np.array([[2,3,4],[4,6,1],[7,9,-2]])\n",
        "mat_X"
      ],
      "metadata": {
        "colab": {
          "base_uri": "https://localhost:8080/"
        },
        "id": "rv00GDFv99t-",
        "outputId": "8695618a-4392-4724-8b01-f20cf5b5d79d"
      },
      "execution_count": 52,
      "outputs": [
        {
          "output_type": "execute_result",
          "data": {
            "text/plain": [
              "array([[ 2,  3,  4],\n",
              "       [ 4,  6,  1],\n",
              "       [ 7,  9, -2]])"
            ]
          },
          "metadata": {},
          "execution_count": 52
        }
      ]
    },
    {
      "cell_type": "code",
      "source": [
        "np.dot(mat_X,np.eye(3))"
      ],
      "metadata": {
        "colab": {
          "base_uri": "https://localhost:8080/"
        },
        "id": "jURwJgLJ-lIo",
        "outputId": "a07ab4dc-9706-41c1-9634-77896b97787e"
      },
      "execution_count": 53,
      "outputs": [
        {
          "output_type": "execute_result",
          "data": {
            "text/plain": [
              "array([[ 2.,  3.,  4.],\n",
              "       [ 4.,  6.,  1.],\n",
              "       [ 7.,  9., -2.]])"
            ]
          },
          "metadata": {},
          "execution_count": 53
        }
      ]
    },
    {
      "cell_type": "code",
      "source": [
        "np.dot(np.eye(3),mat_X)"
      ],
      "metadata": {
        "colab": {
          "base_uri": "https://localhost:8080/"
        },
        "id": "hvETTEUn-07S",
        "outputId": "9560314d-784b-480d-a363-27c2f89d691e"
      },
      "execution_count": 55,
      "outputs": [
        {
          "output_type": "execute_result",
          "data": {
            "text/plain": [
              "array([[ 2.,  3.,  4.],\n",
              "       [ 4.,  6.,  1.],\n",
              "       [ 7.,  9., -2.]])"
            ]
          },
          "metadata": {},
          "execution_count": 55
        }
      ]
    },
    {
      "cell_type": "markdown",
      "source": [
        "### Matrix Slicing ##ตัดส่วนหนึ่งของตารางออกมา"
      ],
      "metadata": {
        "id": "F3_E7GWehvNr"
      }
    },
    {
      "cell_type": "code",
      "source": [
        "mat_X[:2,:2] # ตัดเเถว:หลัก"
      ],
      "metadata": {
        "colab": {
          "base_uri": "https://localhost:8080/"
        },
        "id": "1cP_Fmu2h2jS",
        "outputId": "2bcfc205-57d7-40c4-f18e-6929ba5b1c18"
      },
      "execution_count": 49,
      "outputs": [
        {
          "output_type": "execute_result",
          "data": {
            "text/plain": [
              "array([[ 8, 16],\n",
              "       [16, 32]])"
            ]
          },
          "metadata": {},
          "execution_count": 49
        }
      ]
    },
    {
      "cell_type": "markdown",
      "source": [
        "## Examples\n",
        "\n",
        "\n",
        "1. สร้าง array ที่เป็นรูป ต้น Christmas\n",
        "2. slice เลข 1 ออกมาจาก array HW3 ด้วยการ slice เเค่ครั้งเดียว"
      ],
      "metadata": {
        "id": "N5D5ATABicmU"
      }
    },
    {
      "cell_type": "markdown",
      "source": [
        "ข้อที่ 1"
      ],
      "metadata": {
        "id": "F3SMu_-a8LK6"
      }
    },
    {
      "cell_type": "code",
      "source": [
        "Tree = np.ones((15,9))\n",
        "Tree[1::,4] = 66\n",
        "Tree[3:6,3:6] = 66\n",
        "Tree[5:7,5:7] = 66\n",
        "Tree[5:7,2:7] = 66\n",
        "Tree[7:9,1:8] = 66\n",
        "Tree[9:12,0:9] = 66\n",
        "Tree[4:5,4:6:2] = 0\n",
        "Tree[6:7,3:7:2] = 0\n",
        "Tree[8:9,2:8:2] = 0\n",
        "Tree[10:11,1:9:2] = 0\n",
        "Tree[12:15,4] = 55\n",
        "print(Tree)"
      ],
      "metadata": {
        "id": "AH89XVcP8KRi",
        "outputId": "4004393f-57ba-4d3f-9ad3-c19938ddf637",
        "colab": {
          "base_uri": "https://localhost:8080/"
        }
      },
      "execution_count": null,
      "outputs": [
        {
          "output_type": "stream",
          "name": "stdout",
          "text": [
            "[[ 1.  1.  1.  1.  1.  1.  1.  1.  1.]\n",
            " [ 1.  1.  1.  1. 66.  1.  1.  1.  1.]\n",
            " [ 1.  1.  1.  1. 66.  1.  1.  1.  1.]\n",
            " [ 1.  1.  1. 66. 66. 66.  1.  1.  1.]\n",
            " [ 1.  1.  1. 66.  0. 66.  1.  1.  1.]\n",
            " [ 1.  1. 66. 66. 66. 66. 66.  1.  1.]\n",
            " [ 1.  1. 66.  0. 66.  0. 66.  1.  1.]\n",
            " [ 1. 66. 66. 66. 66. 66. 66. 66.  1.]\n",
            " [ 1. 66.  0. 66.  0. 66.  0. 66.  1.]\n",
            " [66. 66. 66. 66. 66. 66. 66. 66. 66.]\n",
            " [66.  0. 66.  0. 66.  0. 66.  0. 66.]\n",
            " [66. 66. 66. 66. 66. 66. 66. 66. 66.]\n",
            " [ 1.  1.  1.  1. 55.  1.  1.  1.  1.]\n",
            " [ 1.  1.  1.  1. 55.  1.  1.  1.  1.]\n",
            " [ 1.  1.  1.  1. 55.  1.  1.  1.  1.]]\n"
          ]
        }
      ]
    },
    {
      "cell_type": "markdown",
      "source": [
        "ข้อที่ 2"
      ],
      "metadata": {
        "id": "oA5GUf9CkXbQ"
      }
    },
    {
      "cell_type": "code",
      "source": [
        "HW3 = np.zeros((10,10))\n",
        "HW3"
      ],
      "metadata": {
        "colab": {
          "base_uri": "https://localhost:8080/"
        },
        "id": "pY9b57Rih2vI",
        "outputId": "85228480-34af-40ec-80e8-fbea587169be"
      },
      "execution_count": null,
      "outputs": [
        {
          "output_type": "execute_result",
          "data": {
            "text/plain": [
              "array([[0., 0., 0., 0., 0., 0., 0., 0., 0., 0.],\n",
              "       [0., 0., 0., 0., 0., 0., 0., 0., 0., 0.],\n",
              "       [0., 0., 0., 0., 0., 0., 0., 0., 0., 0.],\n",
              "       [0., 0., 0., 0., 0., 0., 0., 0., 0., 0.],\n",
              "       [0., 0., 0., 0., 0., 0., 0., 0., 0., 0.],\n",
              "       [0., 0., 0., 0., 0., 0., 0., 0., 0., 0.],\n",
              "       [0., 0., 0., 0., 0., 0., 0., 0., 0., 0.],\n",
              "       [0., 0., 0., 0., 0., 0., 0., 0., 0., 0.],\n",
              "       [0., 0., 0., 0., 0., 0., 0., 0., 0., 0.],\n",
              "       [0., 0., 0., 0., 0., 0., 0., 0., 0., 0.]])"
            ]
          },
          "metadata": {},
          "execution_count": 3
        }
      ]
    },
    {
      "cell_type": "code",
      "source": [
        "HW3[::4,2] = 1\n",
        "HW3[::4,4] = 1\n",
        "HW3[::4,6] = 1\n",
        "HW3[::4,8] = 1\n",
        "HW3"
      ],
      "metadata": {
        "colab": {
          "base_uri": "https://localhost:8080/"
        },
        "id": "P6oriZujkWGJ",
        "outputId": "26b528f8-534d-445b-e3b3-e95b5fc7f0d5"
      },
      "execution_count": null,
      "outputs": [
        {
          "output_type": "execute_result",
          "data": {
            "text/plain": [
              "array([[0., 0., 1., 0., 1., 0., 1., 0., 1., 0.],\n",
              "       [0., 0., 0., 0., 0., 0., 0., 0., 0., 0.],\n",
              "       [0., 0., 0., 0., 0., 0., 0., 0., 0., 0.],\n",
              "       [0., 0., 0., 0., 0., 0., 0., 0., 0., 0.],\n",
              "       [0., 0., 1., 0., 1., 0., 1., 0., 1., 0.],\n",
              "       [0., 0., 0., 0., 0., 0., 0., 0., 0., 0.],\n",
              "       [0., 0., 0., 0., 0., 0., 0., 0., 0., 0.],\n",
              "       [0., 0., 0., 0., 0., 0., 0., 0., 0., 0.],\n",
              "       [0., 0., 1., 0., 1., 0., 1., 0., 1., 0.],\n",
              "       [0., 0., 0., 0., 0., 0., 0., 0., 0., 0.]])"
            ]
          },
          "metadata": {},
          "execution_count": 4
        }
      ]
    },
    {
      "cell_type": "code",
      "source": [
        "HW3[::4,2::2]"
      ],
      "metadata": {
        "id": "lmOzMFfCNkhL",
        "outputId": "3105234b-642f-4806-e732-ddc40ec1ec8b",
        "colab": {
          "base_uri": "https://localhost:8080/"
        }
      },
      "execution_count": null,
      "outputs": [
        {
          "output_type": "execute_result",
          "data": {
            "text/plain": [
              "array([[1., 1., 1., 1.],\n",
              "       [1., 1., 1., 1.],\n",
              "       [1., 1., 1., 1.]])"
            ]
          },
          "metadata": {},
          "execution_count": 120
        }
      ]
    },
    {
      "cell_type": "markdown",
      "source": [
        "##HW2 สร้าง logo พรรคก้าวไกล\n",
        "\n",
        "\n"
      ],
      "metadata": {
        "id": "RnHyI0TR8gdz"
      }
    },
    {
      "cell_type": "markdown",
      "source": [
        "![Move_Forward_Party_Logo.svg.png](data:image/png;base64,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)"
      ],
      "metadata": {
        "id": "-sPaYqZfI5J7"
      }
    },
    {
      "cell_type": "code",
      "source": [
        "Logo = np.ones((24,18))\n",
        "Logo[2,0:18] = 90\n",
        "Logo[3,1:17] = 90\n",
        "Logo[4,1:17] = 90\n",
        "\n",
        "Logo[5:7,15:16] = 90\n",
        "Logo[7:9,14:15] = 90\n",
        "Logo[9:11,13:14] = 90\n",
        "Logo[11:13,12:13] = 90\n",
        "Logo[13:15,11:12] = 90\n",
        "Logo[15:17,10:11] = 90\n",
        "Logo[17:19,9:10] = 90\n",
        "Logo[19:21,8:9] = 90\n",
        "Logo[21:23,7:8] = 90\n",
        "\n",
        "Logo[7,2:12] = 90\n",
        "Logo[8,3:11] = 90\n",
        "Logo[9,3:10] = 90\n",
        "\n",
        "Logo[9:11,10:11] = 90\n",
        "Logo[11:13,9:10] = 90\n",
        "Logo[13:15,8:9] = 90\n",
        "Logo[15:17,7:8] = 90\n",
        "Logo[17:19,6:7] = 90\n",
        "\n",
        "\n",
        "print(Logo)"
      ],
      "metadata": {
        "colab": {
          "base_uri": "https://localhost:8080/"
        },
        "id": "5uHRc8TB9VrP",
        "outputId": "4b9cbd4b-268f-455a-ec54-872387b4198c"
      },
      "execution_count": 191,
      "outputs": [
        {
          "output_type": "stream",
          "name": "stdout",
          "text": [
            "[[ 1.  1.  1.  1.  1.  1.  1.  1.  1.  1.  1.  1.  1.  1.  1.  1.  1.  1.]\n",
            " [ 1.  1.  1.  1.  1.  1.  1.  1.  1.  1.  1.  1.  1.  1.  1.  1.  1.  1.]\n",
            " [90. 90. 90. 90. 90. 90. 90. 90. 90. 90. 90. 90. 90. 90. 90. 90. 90. 90.]\n",
            " [ 1. 90. 90. 90. 90. 90. 90. 90. 90. 90. 90. 90. 90. 90. 90. 90. 90.  1.]\n",
            " [ 1. 90. 90. 90. 90. 90. 90. 90. 90. 90. 90. 90. 90. 90. 90. 90. 90.  1.]\n",
            " [ 1.  1.  1.  1.  1.  1.  1.  1.  1.  1.  1.  1.  1.  1.  1. 90.  1.  1.]\n",
            " [ 1.  1.  1.  1.  1.  1.  1.  1.  1.  1.  1.  1.  1.  1.  1. 90.  1.  1.]\n",
            " [ 1.  1. 90. 90. 90. 90. 90. 90. 90. 90. 90. 90.  1.  1. 90.  1.  1.  1.]\n",
            " [ 1.  1.  1. 90. 90. 90. 90. 90. 90. 90. 90.  1.  1.  1. 90.  1.  1.  1.]\n",
            " [ 1.  1.  1. 90. 90. 90. 90. 90. 90. 90. 90.  1.  1. 90.  1.  1.  1.  1.]\n",
            " [ 1.  1.  1.  1.  1.  1.  1.  1.  1.  1. 90.  1.  1. 90.  1.  1.  1.  1.]\n",
            " [ 1.  1.  1.  1.  1.  1.  1.  1.  1. 90.  1.  1. 90.  1.  1.  1.  1.  1.]\n",
            " [ 1.  1.  1.  1.  1.  1.  1.  1.  1. 90.  1.  1. 90.  1.  1.  1.  1.  1.]\n",
            " [ 1.  1.  1.  1.  1.  1.  1.  1. 90.  1.  1. 90.  1.  1.  1.  1.  1.  1.]\n",
            " [ 1.  1.  1.  1.  1.  1.  1.  1. 90.  1.  1. 90.  1.  1.  1.  1.  1.  1.]\n",
            " [ 1.  1.  1.  1.  1.  1.  1. 90.  1.  1. 90.  1.  1.  1.  1.  1.  1.  1.]\n",
            " [ 1.  1.  1.  1.  1.  1.  1. 90.  1.  1. 90.  1.  1.  1.  1.  1.  1.  1.]\n",
            " [ 1.  1.  1.  1.  1.  1. 90.  1.  1. 90.  1.  1.  1.  1.  1.  1.  1.  1.]\n",
            " [ 1.  1.  1.  1.  1.  1. 90.  1.  1. 90.  1.  1.  1.  1.  1.  1.  1.  1.]\n",
            " [ 1.  1.  1.  1.  1.  1.  1.  1. 90.  1.  1.  1.  1.  1.  1.  1.  1.  1.]\n",
            " [ 1.  1.  1.  1.  1.  1.  1.  1. 90.  1.  1.  1.  1.  1.  1.  1.  1.  1.]\n",
            " [ 1.  1.  1.  1.  1.  1.  1. 90.  1.  1.  1.  1.  1.  1.  1.  1.  1.  1.]\n",
            " [ 1.  1.  1.  1.  1.  1.  1. 90.  1.  1.  1.  1.  1.  1.  1.  1.  1.  1.]\n",
            " [ 1.  1.  1.  1.  1.  1.  1.  1.  1.  1.  1.  1.  1.  1.  1.  1.  1.  1.]]\n"
          ]
        }
      ]
    },
    {
      "cell_type": "code",
      "source": [],
      "metadata": {
        "id": "KWRfVaI0baXo"
      },
      "execution_count": null,
      "outputs": []
    },
    {
      "cell_type": "markdown",
      "source": [
        "## Pandas Dataframe (แยกออกไปเป็น Notebook เฉพาะ)"
      ],
      "metadata": {
        "id": "-_thYhMEO_KS"
      }
    },
    {
      "cell_type": "code",
      "source": [],
      "metadata": {
        "id": "MuWEUQMYOvZh"
      },
      "execution_count": null,
      "outputs": []
    }
  ]
}